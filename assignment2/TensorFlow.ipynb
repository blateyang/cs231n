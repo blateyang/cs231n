{
 "cells": [
  {
   "cell_type": "markdown",
   "metadata": {},
   "source": [
    "## What's this TensorFlow business?\n",
    "\n",
    "You've written a lot of code in this assignment to provide a whole host of neural network functionality. Dropout, Batch Norm, and 2D convolutions are some of the workhorses of deep learning in computer vision. You've also worked hard to make your code efficient and vectorized.\n",
    "\n",
    "For the last part of this assignment, though, we're going to leave behind your beautiful codebase and instead migrate to one of two popular deep learning frameworks: in this instance, TensorFlow (or PyTorch, if you switch over to that notebook)\n",
    "\n",
    "#### What is it?\n",
    "TensorFlow is a system for executing computational graphs over Tensor objects, with native support for performing backpropogation for its Variables. In it, we work with Tensors which are n-dimensional arrays analogous to the numpy ndarray.\n",
    "\n",
    "#### Why?\n",
    "\n",
    "* Our code will now run on GPUs! Much faster training. Writing your own modules to run on GPUs is beyond the scope of this class, unfortunately.\n",
    "* We want you to be ready to use one of these frameworks for your project so you can experiment more efficiently than if you were writing every feature you want to use by hand. \n",
    "* We want you to stand on the shoulders of giants! TensorFlow and PyTorch are both excellent frameworks that will make your lives a lot easier, and now that you understand their guts, you are free to use them :) \n",
    "* We want you to be exposed to the sort of deep learning code you might run into in academia or industry. "
   ]
  },
  {
   "cell_type": "markdown",
   "metadata": {},
   "source": [
    "## How will I learn TensorFlow?\n",
    "\n",
    "TensorFlow has many excellent tutorials available, including those from [Google themselves](https://www.tensorflow.org/get_started/get_started).\n",
    "\n",
    "Otherwise, this notebook will walk you through much of what you need to do to train models in TensorFlow. See the end of the notebook for some links to helpful tutorials if you want to learn more or need further clarification on topics that aren't fully explained here."
   ]
  },
  {
   "cell_type": "markdown",
   "metadata": {},
   "source": [
    "## Load Datasets\n"
   ]
  },
  {
   "cell_type": "code",
   "execution_count": 2,
   "metadata": {},
   "outputs": [],
   "source": [
    "import tensorflow as tf\n",
    "import numpy as np\n",
    "import math\n",
    "import timeit\n",
    "import matplotlib.pyplot as plt\n",
    "%matplotlib inline"
   ]
  },
  {
   "cell_type": "code",
   "execution_count": 6,
   "metadata": {},
   "outputs": [
    {
     "name": "stdout",
     "output_type": "stream",
     "text": [
      "Train data shape:  (9000, 32, 32, 3)\n",
      "Train labels shape:  (9000,)\n",
      "Validation data shape:  (1000, 32, 32, 3)\n",
      "Validation labels shape:  (1000,)\n",
      "Test data shape:  (1000, 32, 32, 3)\n",
      "Test labels shape:  (1000,)\n"
     ]
    }
   ],
   "source": [
    "from cs231n.data_utils import load_CIFAR10\n",
    "\n",
    "def get_CIFAR10_data(num_training=9000, num_validation=1000, num_test=1000):\n",
    "    \"\"\"\n",
    "    Load the CIFAR-10 dataset from disk and perform preprocessing to prepare\n",
    "    it for the two-layer neural net classifier. These are the same steps as\n",
    "    we used for the SVM, but condensed to a single function.  \n",
    "    \"\"\"\n",
    "    # Load the raw CIFAR-10 data\n",
    "    cifar10_dir = 'cs231n/datasets/cifar-10-batches-py'\n",
    "    X_train, y_train, X_test, y_test = load_CIFAR10(cifar10_dir)\n",
    "\n",
    "    # Subsample the data\n",
    "    mask = range(num_training, num_training + num_validation)\n",
    "    X_val = X_train[mask]\n",
    "    y_val = y_train[mask]\n",
    "    mask = range(num_training)\n",
    "    X_train = X_train[mask]\n",
    "    y_train = y_train[mask]\n",
    "    mask = range(num_test)\n",
    "    X_test = X_test[mask]\n",
    "    y_test = y_test[mask]\n",
    "\n",
    "    # Normalize the data: subtract the mean image\n",
    "    mean_image = np.mean(X_train, axis=0)\n",
    "    X_train -= mean_image\n",
    "    X_val -= mean_image\n",
    "    X_test -= mean_image\n",
    "\n",
    "    return X_train, y_train, X_val, y_val, X_test, y_test\n",
    "\n",
    "\n",
    "# Invoke the above function to get our data.\n",
    "X_train, y_train, X_val, y_val, X_test, y_test = get_CIFAR10_data()\n",
    "print('Train data shape: ', X_train.shape)\n",
    "print('Train labels shape: ', y_train.shape)\n",
    "print('Validation data shape: ', X_val.shape)\n",
    "print('Validation labels shape: ', y_val.shape)\n",
    "print('Test data shape: ', X_test.shape)\n",
    "print('Test labels shape: ', y_test.shape)"
   ]
  },
  {
   "cell_type": "markdown",
   "metadata": {},
   "source": [
    "## Example Model\n",
    "\n",
    "### Some useful utilities\n",
    "\n",
    ". Remember that our image data is initially N x H x W x C, where:\n",
    "* N is the number of datapoints\n",
    "* H is the height of each image in pixels\n",
    "* W is the height of each image in pixels\n",
    "* C is the number of channels (usually 3: R, G, B)\n",
    "\n",
    "This is the right way to represent the data when we are doing something like a 2D convolution, which needs spatial understanding of where the pixels are relative to each other. When we input image data into fully connected affine layers, however, we want each data example to be represented by a single vector -- it's no longer useful to segregate the different channels, rows, and columns of the data."
   ]
  },
  {
   "cell_type": "markdown",
   "metadata": {},
   "source": [
    "### The example model itself\n",
    "\n",
    "The first step to training your own model is defining its architecture.\n",
    "\n",
    "Here's an example of a convolutional neural network defined in TensorFlow -- try to understand what each line is doing, remembering that each layer is composed upon the previous layer. We haven't trained anything yet - that'll come next - for now, we want you to understand how everything gets set up. \n",
    "\n",
    "In that example, you see 2D convolutional layers (Conv2d), ReLU activations, and fully-connected layers (Linear). You also see the Hinge loss function, and the Adam optimizer being used. \n",
    "\n",
    "Make sure you understand why the parameters of the Linear layer are 5408 and 10.\n",
    "\n",
    "### TensorFlow Details\n",
    "In TensorFlow, much like in our previous notebooks, we'll first specifically initialize our variables, and then our network model."
   ]
  },
  {
   "cell_type": "code",
   "execution_count": 64,
   "metadata": {},
   "outputs": [],
   "source": [
    "# clear old variables\n",
    "tf.reset_default_graph()\n",
    "\n",
    "# setup input (e.g. the data that changes every batch)\n",
    "# The first dim is None, and gets sets automatically based on batch size fed in\n",
    "X = tf.placeholder(tf.float32, [None, 32, 32, 3])\n",
    "y = tf.placeholder(tf.int64, [None])\n",
    "is_training = tf.placeholder(tf.bool)\n",
    "\n",
    "def simple_model(X,y):\n",
    "    # define our weights (e.g. init_two_layer_convnet)\n",
    "    \n",
    "    # setup variables\n",
    "    Wconv1 = tf.get_variable(\"Wconv1\", shape=[7, 7, 3, 32])\n",
    "    bconv1 = tf.get_variable(\"bconv1\", shape=[32])\n",
    "    W1 = tf.get_variable(\"W1\", shape=[5408, 10])\n",
    "    b1 = tf.get_variable(\"b1\", shape=[10])\n",
    "\n",
    "    # define our graph (e.g. two_layer_convnet)\n",
    "    # strides=[1,2,2,1] coresponding to N,H,W,C, \n",
    "    # 'VALID' padding represents out_height = ceil(float(in_height - filter_height + 1) / float(strides[1])),padding=0\n",
    "    # 'SAME' padding represents out_h = ceil(in_height/strides[1])\n",
    "    a1 = tf.nn.conv2d(X, Wconv1, strides=[1,2,2,1], padding='VALID') + bconv1\n",
    "    h1 = tf.nn.relu(a1)\n",
    "    h1_flat = tf.reshape(h1,[-1,5408]) # 5408=13*13*32\n",
    "    y_out = tf.matmul(h1_flat,W1) + b1\n",
    "    return y_out\n",
    "\n",
    "y_out = simple_model(X,y)\n",
    "\n",
    "# define our loss\n",
    "total_loss = tf.losses.hinge_loss(tf.one_hot(y,10),logits=y_out)\n",
    "mean_loss = tf.reduce_mean(total_loss)\n",
    "\n",
    "# define our optimizer\n",
    "optimizer = tf.train.AdamOptimizer(5e-4) # select optimizer and set learning rate\n",
    "train_step = optimizer.minimize(mean_loss)"
   ]
  },
  {
   "cell_type": "markdown",
   "metadata": {},
   "source": [
    "TensorFlow supports many other layer types, loss functions, and optimizers - you will experiment with these next. Here's the official API documentation for these (if any of the parameters used above were unclear, this resource will also be helpful). \n",
    "\n",
    "* Layers, Activations, Loss functions : https://www.tensorflow.org/api_guides/python/nn\n",
    "* Optimizers: https://www.tensorflow.org/api_guides/python/train#Optimizers\n",
    "* BatchNorm: https://www.tensorflow.org/api_docs/python/tf/layers/batch_normalization"
   ]
  },
  {
   "cell_type": "markdown",
   "metadata": {},
   "source": [
    "### Training the model on one epoch\n",
    "While we have defined a graph of operations above, in order to execute TensorFlow Graphs, by feeding them input data and computing the results, we first need to create a `tf.Session` object. A session encapsulates the control and state of the TensorFlow runtime. For more information, see the TensorFlow [Getting started](https://www.tensorflow.org/get_started/get_started) guide.\n",
    "\n",
    "Optionally we can also specify a device context such as `/cpu:0` or `/gpu:0`. For documentation on this behavior see [this TensorFlow guide](https://www.tensorflow.org/tutorials/using_gpu)\n",
    "\n",
    "You should see a validation loss of around 0.4 to 0.6 and an accuracy of 0.30 to 0.35 below"
   ]
  },
  {
   "cell_type": "code",
   "execution_count": 124,
   "metadata": {},
   "outputs": [],
   "source": [
    "def run_model(session, predict, loss_val, Xd, yd,\n",
    "              epochs=1, batch_size=64, print_every=100,\n",
    "              training=None, plot_losses=False):\n",
    "    # have tensorflow compute accuracy\n",
    "    correct_prediction = tf.equal(tf.argmax(predict,1), y)\n",
    "    accuracy = tf.reduce_mean(tf.cast(correct_prediction, tf.float32))\n",
    "    \n",
    "    # shuffle indicies\n",
    "    train_indicies = np.arange(Xd.shape[0])\n",
    "    np.random.shuffle(train_indicies)\n",
    "\n",
    "    training_now = training is not None\n",
    "    \n",
    "    # setting up variables we want to compute (and optimizing)\n",
    "    # if we have a training function, add that to things we compute\n",
    "    variables = [loss_val,correct_prediction,accuracy]\n",
    "    if training_now:\n",
    "        variables[-1] = training\n",
    "    \n",
    "    # counter \n",
    "    iter_cnt = 0\n",
    "    for e in range(epochs):\n",
    "        # keep track of losses and accuracy\n",
    "        correct = 0\n",
    "        losses = []\n",
    "        # make sure we iterate over the dataset once\n",
    "        for i in range(int(math.ceil(Xd.shape[0]/batch_size))):\n",
    "            # generate indicies for the batch\n",
    "            start_idx = (i*batch_size)%Xd.shape[0]\n",
    "            idx = train_indicies[start_idx:start_idx+batch_size]\n",
    "            \n",
    "            # create a feed dictionary for this batch\n",
    "            feed_dict = {X: Xd[idx,:],\n",
    "                         y: yd[idx],\n",
    "                         is_training: training_now }\n",
    "            # get batch size\n",
    "            actual_batch_size = yd[idx].shape[0]\n",
    "            \n",
    "            # have tensorflow compute loss and correct predictions\n",
    "            # and (if given) perform a training step\n",
    "            loss, corr, _ = session.run(variables,feed_dict=feed_dict)\n",
    "            \n",
    "            # aggregate performance stats\n",
    "            losses.append(loss*actual_batch_size)\n",
    "            correct += np.sum(corr)\n",
    "            \n",
    "            # print every now and then\n",
    "            if training_now and (iter_cnt % print_every) == 0:\n",
    "                print(\"Iteration {0}: with minibatch training loss = {1:.3g} and accuracy of {2:.2g}\"\\\n",
    "                      .format(iter_cnt,loss,np.sum(corr)/actual_batch_size))\n",
    "            iter_cnt += 1\n",
    "        total_correct = correct/Xd.shape[0]\n",
    "        total_loss = np.sum(losses)/Xd.shape[0]\n",
    "        print(\"Epoch {2}, Overall loss = {0:.3g} and accuracy of {1:.3g}\"\\\n",
    "              .format(total_loss,total_correct,e+1))\n",
    "        if plot_losses:\n",
    "            plt.plot(losses)\n",
    "            plt.grid(True)\n",
    "            plt.title('Epoch {} Loss'.format(e+1))\n",
    "            plt.xlabel('minibatch number')\n",
    "            plt.ylabel('minibatch loss')\n",
    "            plt.show()\n",
    "    return total_loss,total_correct\n",
    "\n"
   ]
  },
  {
   "cell_type": "code",
   "execution_count": 125,
   "metadata": {},
   "outputs": [
    {
     "name": "stdout",
     "output_type": "stream",
     "text": [
      "Training\n",
      "Iteration 0: with minibatch training loss = 2.73 and accuracy of 0.062\n",
      "Iteration 100: with minibatch training loss = 1.82 and accuracy of 0.33\n",
      "Epoch 1, Overall loss = 2.06 and accuracy of 0.274\n"
     ]
    },
    {
     "data": {
      "image/png": "[encoded data removed]",
      "text/plain": [
       "<Figure size 432x288 with 1 Axes>"
      ]
     },
     "metadata": {},
     "output_type": "display_data"
    },
    {
     "name": "stdout",
     "output_type": "stream",
     "text": [
      "Iteration 200: with minibatch training loss = 1.47 and accuracy of 0.56\n",
      "Epoch 2, Overall loss = 1.5 and accuracy of 0.472\n"
     ]
    },
    {
     "data": {
      "image/png": "[encoded data removed]",
      "text/plain": [
       "<Figure size 432x288 with 1 Axes>"
      ]
     },
     "metadata": {},
     "output_type": "display_data"
    },
    {
     "name": "stdout",
     "output_type": "stream",
     "text": [
      "Validation\n",
      "Epoch 1, Overall loss = 4.35 and accuracy of 0.315\n"
     ]
    }
   ],
   "source": [
    "with tf.Session() as sess:\n",
    "    with tf.device(\"/cpu:0\"): #\"/cpu:0\" or \"/gpu:0\" \n",
    "        sess.run(tf.global_variables_initializer())\n",
    "        print('Training')\n",
    "        run_model(sess,y_out,mean_loss,X_train,y_train,2,64,100,train_step,True)\n",
    "        print('Validation')\n",
    "        run_model(sess,y_out,mean_loss,X_val,y_val,1,64)"
   ]
  },
  {
   "cell_type": "markdown",
   "metadata": {},
   "source": [
    "## Training a specific model\n",
    "\n",
    "In this section, we're going to specify a model for you to construct. The goal here isn't to get good performance (that'll be next), but instead to get comfortable with understanding the TensorFlow documentation and configuring your own model. \n",
    "\n",
    "Using the code provided above as guidance, and using the following TensorFlow documentation, specify a model with the following architecture:\n",
    "\n",
    "* 7x7 Convolutional Layer with 32 filters and stride of 1\n",
    "* ReLU Activation Layer\n",
    "* Spatial Batch Normalization Layer (trainable parameters, with scale and centering)\n",
    "* 2x2 Max Pooling layer with a stride of 2\n",
    "* Affine layer with 1024 output units\n",
    "* ReLU Activation Layer\n",
    "* Affine layer from 1024 input units to 10 outputs\n",
    "\n"
   ]
  },
  {
   "cell_type": "code",
   "execution_count": 72,
   "metadata": {},
   "outputs": [],
   "source": [
    "# clear old variables\n",
    "tf.reset_default_graph()\n",
    "\n",
    "# define our input (e.g. the data that changes every batch)\n",
    "# The first dim is None, and gets sets automatically based on batch size fed in\n",
    "X = tf.placeholder(tf.float32, [None, 32, 32, 3])\n",
    "y = tf.placeholder(tf.int64, [None])\n",
    "is_training = tf.placeholder(tf.bool)\n",
    "\n",
    "# define model\n",
    "def complex_model(X,y,is_training):\n",
    "    pass\n",
    "    Wconv1 = tf.get_variable(\"Wconv1\", shape=[7, 7, 3, 32])\n",
    "    bconv1 = tf.get_variable(\"bconv1\", shape=[32])\n",
    "    W1 = tf.get_variable(\"W1\", shape=[5408, 1024])\n",
    "    b1 = tf.get_variable(\"b1\", shape=[1024])\n",
    "    W2 = tf.get_variable('W2', shape=[1024, 10])\n",
    "    b2 = tf.get_variable('b2', shape=[10])\n",
    "    conv1 = tf.nn.conv2d(X, Wconv1, strides=[1,1,1,1], padding='VALID') + bconv1\n",
    "    a1 = tf.nn.relu(conv1)\n",
    "    a1_bn = tf.layers.batch_normalization(a1, axis=-1, training=is_training) # batch normalize on channel axis\n",
    "    pool1 = tf.nn.max_pool(a1_bn, ksize=[1,2,2,1], strides=[1,2,2,1], padding='VALID') # (H,W,C)=(13,13,32)\n",
    "    pool1_flat = tf.reshape(pool1, [-1, 5408])\n",
    "    fc1 = tf.matmul(pool1_flat, W1) + b1\n",
    "    a2 = tf.nn.relu(fc1)\n",
    "    y_out = tf.matmul(a2, W2) +b2\n",
    "    return y_out\n",
    "y_out = complex_model(X,y,is_training)"
   ]
  },
  {
   "cell_type": "markdown",
   "metadata": {},
   "source": [
    "To make sure you're doing the right thing, use the following tool to check the dimensionality of your output (it should be 64 x 10, since our batches have size 64 and the output of the final affine layer should be 10, corresponding to our 10 classes):"
   ]
  },
  {
   "cell_type": "code",
   "execution_count": 71,
   "metadata": {},
   "outputs": [
    {
     "name": "stdout",
     "output_type": "stream",
     "text": [
      "1.05 ms ± 13.4 µs per loop (mean ± std. dev. of 7 runs, 1000 loops each)\n",
      "(64, 10)\n",
      "True\n"
     ]
    }
   ],
   "source": [
    "# Now we're going to feed a random batch into the model \n",
    "# and make sure the output is the right size\n",
    "x = np.random.randn(64, 32, 32,3)\n",
    "with tf.Session() as sess:\n",
    "    with tf.device(\"/cpu:0\"): #\"/cpu:0\" or \"/gpu:0\"\n",
    "        tf.global_variables_initializer().run()\n",
    "\n",
    "        ans = sess.run(y_out,feed_dict={X:x,is_training:True})\n",
    "        %timeit sess.run(y_out,feed_dict={X:x,is_training:True})\n",
    "        print(ans.shape)\n",
    "        print(np.array_equal(ans.shape, np.array([64, 10])))"
   ]
  },
  {
   "cell_type": "markdown",
   "metadata": {},
   "source": [
    "You should see the following from the run above \n",
    "\n",
    "`(64, 10)`\n",
    "\n",
    "`True`"
   ]
  },
  {
   "cell_type": "markdown",
   "metadata": {},
   "source": [
    "### GPU!\n",
    "\n",
    "Now, we're going to try and start the model under the GPU device, the rest of the code stays unchanged and all our variables and operations will be computed using accelerated code paths. However, if there is no GPU, we get a Python exception and have to rebuild our graph. On a dual-core CPU, you might see around 50-80ms/batch running the above, while the Google Cloud GPUs (run below) should be around 2-5ms/batch."
   ]
  },
  {
   "cell_type": "code",
   "execution_count": 68,
   "metadata": {},
   "outputs": [],
   "source": [
    "# avoid jupyter notebook occupying gpu memory after running tf\n",
    "import os\n",
    "gpu_id = '1'\n",
    "os.environ[\"CUDA_VISIBLE_DEVICES\"] = gpu_id\n",
    "config = tf.ConfigProto()\n",
    "# config distribution mode of gpu memory, growth by need\n",
    "config.gpu_options.allow_growth = True\n",
    "# config ratio of available gpu memory\n",
    "config.gpu_options.per_process_gpu_memory_fraction = 0.5\n",
    "# transmit config as param when creating session\n",
    "# sess = tf.InteractiveSession(config = config)"
   ]
  },
  {
   "cell_type": "code",
   "execution_count": 72,
   "metadata": {},
   "outputs": [
    {
     "name": "stdout",
     "output_type": "stream",
     "text": [
      "1.05 ms ± 16.3 µs per loop (mean ± std. dev. of 7 runs, 1000 loops each)\n"
     ]
    }
   ],
   "source": [
    "try:\n",
    "#    with tf.InteractiveSession(config = config) as sess:\n",
    "    with tf.Session() as sess:\n",
    "        with tf.device(\"/gpu:0\") as dev: #\"/cpu:0\" or \"/gpu:0\"\n",
    "            tf.global_variables_initializer().run()\n",
    "\n",
    "            ans = sess.run(y_out,feed_dict={X:x,is_training:True})\n",
    "            %timeit sess.run(y_out,feed_dict={X:x,is_training:True})\n",
    "except tf.errors.InvalidArgumentError:\n",
    "    print(\"no gpu found, please use Google Cloud if you want GPU acceleration\")    \n",
    "    # rebuild the graph\n",
    "    # trying to start a GPU throws an exception \n",
    "    # and also trashes the original graph\n",
    "    tf.reset_default_graph()\n",
    "    X = tf.placeholder(tf.float32, [None, 32, 32, 3])\n",
    "    y = tf.placeholder(tf.int64, [None])\n",
    "    is_training = tf.placeholder(tf.bool)\n",
    "    y_out = complex_model(X,y,is_training)"
   ]
  },
  {
   "cell_type": "markdown",
   "metadata": {},
   "source": [
    "You should observe that even a simple forward pass like this is significantly faster on the GPU. So for the rest of the assignment (and when you go train your models in assignment 3 and your project!), you should use GPU devices. However, with TensorFlow, the default device is a GPU if one is available, and a CPU otherwise, so we can skip the device specification from now on."
   ]
  },
  {
   "cell_type": "markdown",
   "metadata": {},
   "source": [
    "### Train the model.\n",
    "\n",
    "Now that you've seen how to define a model and do a single forward pass of some data through it, let's  walk through how you'd actually train one whole epoch over your training data (using the complex_model you created provided above).\n",
    "\n",
    "Make sure you understand how each TensorFlow function used below corresponds to what you implemented in your custom neural network implementation.\n",
    "\n",
    "First, set up an **RMSprop optimizer** (using a 1e-3 learning rate) and a **cross-entropy loss** function. See the TensorFlow documentation for more information\n",
    "* Layers, Activations, Loss functions : https://www.tensorflow.org/api_guides/python/nn\n",
    "* Optimizers: https://www.tensorflow.org/api_guides/python/train#Optimizers"
   ]
  },
  {
   "cell_type": "code",
   "execution_count": 74,
   "metadata": {},
   "outputs": [],
   "source": [
    "# Inputs\n",
    "#     y_out: is what your model computes\n",
    "#     y: is your TensorFlow variable with label information\n",
    "# Outputs\n",
    "#    mean_loss: a TensorFlow variable (scalar) with numerical loss\n",
    "#    optimizer: a TensorFlow optimizer\n",
    "# This should be ~3 lines of code!\n",
    "mean_loss = None\n",
    "optimizer = None\n",
    "pass\n",
    "# define our loss\n",
    "total_loss = tf.losses.softmax_cross_entropy(tf.one_hot(y,10),logits=y_out)\n",
    "mean_loss = tf.reduce_mean(total_loss)\n",
    "\n",
    "# define our optimizer\n",
    "optimizer = tf.train.RMSPropOptimizer(1e-3) # select optimizer and set learning rate"
   ]
  },
  {
   "cell_type": "code",
   "execution_count": 75,
   "metadata": {},
   "outputs": [],
   "source": [
    "# batch normalization in tensorflow requires this extra dependency\n",
    "extra_update_ops = tf.get_collection(tf.GraphKeys.UPDATE_OPS)\n",
    "with tf.control_dependencies(extra_update_ops):\n",
    "    train_step = optimizer.minimize(mean_loss)"
   ]
  },
  {
   "cell_type": "markdown",
   "metadata": {},
   "source": [
    "### Train the model\n",
    "Below we'll create a session and train the model over one epoch. You should see a loss of 1.4 to 2.0 and an accuracy of 0.4 to 0.5. There will be some variation due to random seeds and differences in initialization"
   ]
  },
  {
   "cell_type": "code",
   "execution_count": 76,
   "metadata": {},
   "outputs": [
    {
     "name": "stdout",
     "output_type": "stream",
     "text": [
      "Training\n",
      "Iteration 0: with minibatch training loss = 40.4 and accuracy of 0.062\n",
      "Epoch 1, Overall loss = 16.1 and accuracy of 0.212\n",
      "Epoch 2, Overall loss = 10.7 and accuracy of 0.251\n",
      "Epoch 3, Overall loss = 9.38 and accuracy of 0.276\n",
      "Iteration 500: with minibatch training loss = 9.42 and accuracy of 0.23\n",
      "Epoch 4, Overall loss = 8.32 and accuracy of 0.297\n",
      "Epoch 5, Overall loss = 8.06 and accuracy of 0.309\n",
      "Epoch 6, Overall loss = 7.32 and accuracy of 0.333\n",
      "Epoch 7, Overall loss = 7.14 and accuracy of 0.346\n",
      "Iteration 1000: with minibatch training loss = 10.2 and accuracy of 0.16\n",
      "Epoch 8, Overall loss = 6.57 and accuracy of 0.367\n",
      "Epoch 9, Overall loss = 6.46 and accuracy of 0.378\n",
      "Epoch 10, Overall loss = 6.06 and accuracy of 0.399\n"
     ]
    },
    {
     "data": {
      "text/plain": [
       "(6.06179711066352, 0.3993333333333333)"
      ]
     },
     "execution_count": 76,
     "metadata": {},
     "output_type": "execute_result"
    }
   ],
   "source": [
    "sess = tf.Session()\n",
    "\n",
    "sess.run(tf.global_variables_initializer())\n",
    "print('Training')\n",
    "run_model(sess,y_out,mean_loss,X_train,y_train,10,64,500,train_step)"
   ]
  },
  {
   "cell_type": "markdown",
   "metadata": {},
   "source": [
    "### Check the accuracy of the model.\n",
    "\n",
    "Let's see the train and test code in action -- feel free to use these methods when evaluating the models you develop below. You should see a loss of 1.3 to 2.0 with an accuracy of 0.45 to 0.55."
   ]
  },
  {
   "cell_type": "code",
   "execution_count": 77,
   "metadata": {},
   "outputs": [
    {
     "name": "stdout",
     "output_type": "stream",
     "text": [
      "Validation\n",
      "Epoch 1, Overall loss = 6.3 and accuracy of 0.304\n"
     ]
    },
    {
     "data": {
      "text/plain": [
       "(6.295080600738525, 0.304)"
      ]
     },
     "execution_count": 77,
     "metadata": {},
     "output_type": "execute_result"
    }
   ],
   "source": [
    "print('Validation')\n",
    "run_model(sess,y_out,mean_loss,X_val,y_val,1,64)"
   ]
  },
  {
   "cell_type": "markdown",
   "metadata": {},
   "source": [
    "## Train a _great_ model on CIFAR-10!\n",
    "\n",
    "Now it's your job to experiment with architectures, hyperparameters, loss functions, and optimizers to train a model that achieves ** >= 70% accuracy on the validation set** of CIFAR-10. You can use the `run_model` function from above."
   ]
  },
  {
   "cell_type": "markdown",
   "metadata": {},
   "source": [
    "### Things you should try:\n",
    "- **Filter size**: Above we used 7x7; this makes pretty pictures but smaller filters may be more efficient\n",
    "- **Number of filters**: Above we used 32 filters. Do more or fewer do better?\n",
    "- **Pooling vs Strided Convolution**: Do you use max pooling or just stride convolutions?\n",
    "- **Batch normalization**: Try adding spatial batch normalization after convolution layers and vanilla batch normalization after affine layers. Do your networks train faster?\n",
    "- **Network architecture**: The network above has two layers of trainable parameters. Can you do better with a deep network? Good architectures to try include:\n",
    "    - [conv-relu-pool]xN -> [affine]xM -> [softmax or SVM]\n",
    "    - [conv-relu-conv-relu-pool]xN -> [affine]xM -> [softmax or SVM]\n",
    "    - [batchnorm-relu-conv]xN -> [affine]xM -> [softmax or SVM]\n",
    "- **Use TensorFlow Scope**: Use TensorFlow scope and/or [tf.layers](https://www.tensorflow.org/api_docs/python/tf/layers) to make it easier to write deeper networks. See [this tutorial](https://www.tensorflow.org/tutorials/layers) for how to use `tf.layers`. \n",
    "- **Use Learning Rate Decay**: [As the notes point out](http://cs231n.github.io/neural-networks-3/#anneal), decaying the learning rate might help the model converge. Feel free to decay every epoch, when loss doesn't change over an entire epoch, or any other heuristic you find appropriate. See the [Tensorflow documentation](https://www.tensorflow.org/versions/master/api_guides/python/train#Decaying_the_learning_rate) for learning rate decay.\n",
    "- **Global Average Pooling**: Instead of flattening and then having multiple affine layers, perform convolutions until your image gets small (7x7 or so) and then perform an average pooling operation to get to a 1x1 image picture (1, 1 , Filter#), which is then reshaped into a (Filter#) vector. This is used in [Google's Inception Network](https://arxiv.org/abs/1512.00567) (See Table 1 for their architecture).\n",
    "- **Regularization**: Add l2 weight regularization, or perhaps use [Dropout as in the TensorFlow MNIST tutorial](https://www.tensorflow.org/get_started/mnist/pros)\n",
    "\n",
    "### Tips for training\n",
    "For each network architecture that you try, you should tune the learning rate and regularization strength. When doing this there are a couple important things to keep in mind:\n",
    "\n",
    "- If the parameters are working well, you should see improvement within a few hundred iterations\n",
    "- Remember the coarse-to-fine approach for hyperparameter tuning: start by testing a large range of hyperparameters for just a few training iterations to find the combinations of parameters that are working at all.\n",
    "- Once you have found some sets of parameters that seem to work, search more finely around these parameters. You may need to train for more epochs.\n",
    "- You should use the validation set for hyperparameter search, and we'll save the test set for evaluating your architecture on the best parameters as selected by the validation set.\n",
    "\n",
    "### Going above and beyond\n",
    "If you are feeling adventurous there are many other features you can implement to try and improve your performance. You are **not required** to implement any of these; however they would be good things to try for extra credit.\n",
    "\n",
    "- Alternative update steps: For the assignment we implemented SGD+momentum, RMSprop, and Adam; you could try alternatives like AdaGrad or AdaDelta.\n",
    "- Alternative activation functions such as leaky ReLU, parametric ReLU, ELU, or MaxOut.\n",
    "- Model ensembles\n",
    "- Data augmentation\n",
    "- New Architectures\n",
    "  - [ResNets](https://arxiv.org/abs/1512.03385) where the input from the previous layer is added to the output.\n",
    "  - [DenseNets](https://arxiv.org/abs/1608.06993) where inputs into previous layers are concatenated together.\n",
    "  - [This blog has an in-depth overview](https://chatbotslife.com/resnets-highwaynets-and-densenets-oh-my-9bb15918ee32)\n",
    "\n",
    "If you do decide to implement something extra, clearly describe it in the \"Extra Credit Description\" cell below.\n",
    "\n",
    "### What we expect\n",
    "At the very least, you should be able to train a ConvNet that gets at **>= 70% accuracy on the validation set**. This is just a lower bound - if you are careful it should be possible to get accuracies much higher than that! Extra credit points will be awarded for particularly high-scoring models or unique approaches.\n",
    "\n",
    "You should use the space below to experiment and train your network. The final cell in this notebook should contain the training and validation set accuracies for your final trained network.\n",
    "\n",
    "Have fun and happy training!"
   ]
  },
  {
   "cell_type": "code",
   "execution_count": 129,
   "metadata": {},
   "outputs": [
    {
     "name": "stdout",
     "output_type": "stream",
     "text": [
      "shape of block1: (?, 32, 32, 64)\n",
      "shape of block2: (?, 16, 16, 96)\n",
      "shape of block3: (?, 8, 8, 128)\n"
     ]
    }
   ],
   "source": [
    "### Feel free to play with this cell\n",
    "def architect_c_r_p(X, is_training, use_bn=False, N=2):  # val_acc 0.557, add bn can improve to 0.565\n",
    "    \"\"\"[conv-relu-pool]*N\"\"\"\n",
    "#     Wconv1 = tf.get_variable(\"Wconv1\", shape=[3, 3, 3, 64]) \n",
    "#     bconv1 = tf.get_variable(\"bconv1\", shape=[64]) \n",
    "#     Wconv2 = tf.get_variable('Wconv2', shape=[3, 3, 64, 64])\n",
    "#     bconv2 = tf.get_variable(\"bconv2\", shape=[64])    \n",
    "    \n",
    "#     conv1 = tf.nn.conv2d(X, Wconv1, strides=[1,1,1,1], padding='VALID') + bconv1 # H_out = ceil((32-3+1)/stride)\n",
    "#     a1 = tf.nn.relu(conv1)\n",
    "#     pool1 = tf.nn.max_pool(a1, ksize=[1,2,2,1], strides=[1,2,2,1], padding='VALID') # H,W,C = 15,15,64\n",
    "    \n",
    "#     conv2 = tf.nn.conv2d(pool1, Wconv2, strides=[1,1,1,1], padding='VALID') + bconv2\n",
    "#     a2 = tf.nn.relu(conv2)\n",
    "#     pool2 = tf.nn.max_pool(a2, ksize=[1,2,2,1], strides=[1,2,2,1], padding='VALID') # H,W,C = 6,6,64\n",
    "    \n",
    "#     pool_flat = tf.reshape(pool2, [-1, 2304])\n",
    "    \n",
    "    pool = X\n",
    "    for i in range(1, N+1):\n",
    "        c_in = 3 if i==1 else 64\n",
    "        c_mid = 64\n",
    "        Wconv = tf.get_variable('Wconv'+str(i)+'_1', shape=[3, 3, c_in, c_mid])\n",
    "        bconv = tf.get_variable('bconv'+str(i)+'_1', shape=[c_mid])\n",
    "        # conv-relu-pool block\n",
    "        conv = tf.nn.conv2d(pool, Wconv, strides=[1,1,1,1], padding='SAME') + bconv\n",
    "        if use_bn:\n",
    "            conv = tf.layers.batch_normalization(conv, axis=-1, training=is_training)\n",
    "        a = tf.nn.relu(conv)\n",
    "        pool = tf.nn.max_pool(a, ksize=[1,2,2,1], strides=[1,2,2,1], padding='SAME')\n",
    "    \n",
    "    spatial_size = 32//(2**N)\n",
    "    out_dim = (spatial_size**2)*c_mid\n",
    "    pool_flat = tf.reshape(pool, [-1, out_dim])\n",
    "    return pool_flat, out_dim\n",
    "\n",
    "def architect_c_r_c_r_p(X, is_training, use_bn=False, N=2): # best val_acc 0.678\n",
    "    \"\"\"[conv-relu-conv-relu-pool]*N\"\"\"\n",
    "#     Wconv1_1 = tf.get_variable(\"Wconv1_1\", shape=[3, 3, 3, 64]) \n",
    "#     bconv1_1 = tf.get_variable(\"bconv1_1\", shape=[64]) \n",
    "#     Wconv1_2 = tf.get_variable('Wconv1_2', shape=[3, 3, 64, 64])\n",
    "#     bconv1_2 = tf.get_variable(\"bconv1_2\", shape=[64])\n",
    "#     Wconv2_1 = tf.get_variable(\"Wconv2_1\", shape=[3, 3, 64, 64]) \n",
    "#     bconv2_1 = tf.get_variable(\"bconv2_1\", shape=[64]) \n",
    "#     Wconv2_2 = tf.get_variable('Wconv2_2', shape=[3, 3, 64, 64])\n",
    "#     bconv2_2 = tf.get_variable(\"bconv2_2\", shape=[64])\n",
    "    \n",
    "#     conv1_1 = tf.nn.conv2d(X, Wconv1_1, strides=[1,1,1,1], padding='SAME') + bconv1_1\n",
    "#     a1 = tf.nn.relu(conv1_1)\n",
    "#     a1 = tf.layers.batch_normalization(a1, axis=-1, training=is_training) \n",
    "#     conv1_2 = tf.nn.conv2d(a1, Wconv1_2, strides=[1,1,1,1], padding='SAME') + bconv1_2\n",
    "#     a1_2 = tf.nn.relu(conv1_2)\n",
    "#     a1_2 = tf.layers.batch_normalization(a1_2, axis=-1, training=is_training)\n",
    "#     pool1 = tf.nn.max_pool(a1_2, ksize=[1,2,2,1], strides=[1,2,2,1], padding='SAME') # H,W,C = 16,16,64\n",
    "    \n",
    "#     conv2_1 = tf.nn.conv2d(pool1, Wconv2_1, strides=[1,1,1,1], padding='SAME') + bconv2_1\n",
    "#     a2 = tf.nn.relu(conv2_1)\n",
    "#     a2 = tf.layers.batch_normalization(a2, axis=-1, training=is_training) \n",
    "#     conv2_2 = tf.nn.conv2d(a2, Wconv2_2, strides=[1,1,1,1], padding='SAME') + bconv2_2\n",
    "#     a2_2 = tf.nn.relu(conv2_2)\n",
    "#     a2_2 = tf.layers.batch_normalization(a2_2, axis=-1, training=is_training)\n",
    "#     pool = tf.nn.max_pool(a2_2, ksize=[1,2,2,1], strides=[1,2,2,1], padding='SAME') # H,W,C = 8,8,64\n",
    "    \n",
    "    pool = X\n",
    "    for i in range(1, 1+N):\n",
    "        c_in = 3 if i==1 else 64 + 32*(i-1)\n",
    "        c_out_1 = 64 + 32*(i-1)\n",
    "        c_out_2 = c_out_1 + 32\n",
    "        Wconv_1 = tf.get_variable('Wconv'+str(i)+'_1', shape=[3, 3, c_in, c_out_1])\n",
    "        bconv_1 = tf.get_variable('bconv'+str(i)+'_1', shape=[c_out_1])\n",
    "        Wconv_2 = tf.get_variable('Wconv'+str(i)+'_2', shape=[3, 3, c_out_1, c_out_2])\n",
    "        bconv_2 = tf.get_variable('bconv'+str(i)+'_2', shape=[c_out_2])\n",
    "        # conv-relu-conv-relu-pool block\n",
    "        conv_1 = tf.nn.conv2d(pool, Wconv_1, strides=[1,1,1,1], padding='SAME') + bconv_1\n",
    "        print(\"shape of block\"+str(i)+\":\",conv_1.get_shape())\n",
    "        if use_bn:\n",
    "            conv_1 = tf.layers.batch_normalization(conv_1, axis=-1, training=is_training)\n",
    "        a_1 = tf.nn.relu(conv_1)\n",
    "        conv_2 = tf.nn.conv2d(a_1, Wconv_2, strides=[1,1,1,1], padding='SAME') + bconv_2\n",
    "        if use_bn:\n",
    "            conv_2 = tf.layers.batch_normalization(conv_2, axis=-1, training=is_training)\n",
    "        a_2 = tf.nn.relu(conv_2)\n",
    "        pool = tf.nn.max_pool(a_2, ksize=[1,2,2,1], strides=[1,2,2,1], padding='SAME')\n",
    "    \n",
    "    spatial_size = 32//(2**N)\n",
    "    out_dim = (spatial_size**2)*c_out_2\n",
    "    pool_flat = tf.reshape(pool, [-1, out_dim])\n",
    "    \n",
    "    return pool_flat, out_dim\n",
    "\n",
    "def architect_b_r_c(X, is_training, N=6): # val_acc 0.516\n",
    "    \"\"\"[bn-relu-conv]*N\"\"\"\n",
    "    conv = X\n",
    "    downsample_num = 0\n",
    "    for i in range(1, N+1):\n",
    "        c_in = 3 if i==1 else 64\n",
    "        c_mid = 64\n",
    "        Wconv = tf.get_variable('Wconv'+str(i), shape=[3,3,c_in,c_mid])\n",
    "        bconv = tf.get_variable('bconv'+str(i), shape=[c_mid])       \n",
    "        bn_mid = tf.layers.batch_normalization(conv, axis=-1, training=is_training)\n",
    "        bn_mid_relu = tf.nn.relu(bn_mid)\n",
    "        if i%3==0:\n",
    "            conv = tf.nn.conv2d(bn_mid_relu, Wconv, strides=[1,2,2,1], padding='SAME') + bconv\n",
    "            downsample_num += 1\n",
    "        else:\n",
    "            conv = tf.nn.conv2d(bn_mid_relu, Wconv, strides=[1,1,1,1], padding='SAME') + bconv\n",
    "        print(conv.get_shape())\n",
    "    \n",
    "    spatial_size = 32//(2**downsample_num)\n",
    "    out_dim = (spatial_size**2)*c_mid\n",
    "    conv_flat = tf.reshape(conv, [-1, out_dim])\n",
    "    \n",
    "    return conv_flat, out_dim\n",
    "\n",
    "def model_with_tf_scope(X, y, is_training):\n",
    "    \"\"\"Build cnn model with tensorflow scope/tf.layers api\"\"\"\n",
    "    conv1_1 = tf.layers.conv2d(inputs=X, filters=64, kernel_size=[3,3], padding='same', activation=tf.nn.relu)\n",
    "    conv1_2 = tf.layers.conv2d(inputs=conv1_1, filters=64, kernel_size=[3,3], padding='same', activation=tf.nn.relu)\n",
    "    pool1 = tf.layers.max_pooling2d(inputs=conv1_2, pool_size=[2,2], strides=2)\n",
    "    conv2_1 = tf.layers.conv2d(inputs=pool1, filters=64, kernel_size=[3,3], padding='same', activation=tf.nn.relu)\n",
    "    conv2_2 = tf.layers.conv2d(inputs=conv2_1, filters=64, kernel_size=[3,3], padding='same', activation=tf.nn.relu)\n",
    "    pool2 = tf.layers.max_pooling2d(inputs=conv2_2, pool_size=[2,2], strides=2)\n",
    "#     pool2_flat = tf.reshape(pool2, [-1, 4096])\n",
    "#     fc1 = tf.layers.dense(inputs=pool2_flat, units=1024, activation=tf.nn.relu)\n",
    "#     fc1 = tf.layers.dropout(inputs=fc1, rate=0.5, training= is_training)\n",
    "#     y_out = tf.layers.dense(inputs=fc1, units=10)\n",
    "\n",
    "    # Use global average pool instead of fc layer\n",
    "    conv3 = tf.layers.conv2d(inputs=pool2, filters=64, kernel_size=[1,1], padding='same', activation=tf.nn.relu)\n",
    "    conv3_h, conv3_w = conv3.get_shape()[1:3]\n",
    "    conv3_global_avg = tf.layers.average_pooling2d(conv3, pool_size=8, strides=8, padding='same')\n",
    "    print(conv3_global_avg.get_shape())\n",
    "    conv3_global_avg = tf.reshape(conv3_global_avg, [-1, 64])\n",
    "    y_out = tf.layers.dense(inputs=conv3_global_avg, units=10)\n",
    "\n",
    "    \n",
    "    return y_out\n",
    "\n",
    "def my_model(X,y,is_training):\n",
    "#     pass\n",
    "#     # change filter size from 7 to 3 can imporve val_acc to 0.543\n",
    "#     Wconv1 = tf.get_variable(\"Wconv1\", shape=[3, 3, 3, 64]) \n",
    "#     # increse number of filters from 32 to 64 can imporve val_acc to 0.549\n",
    "#     bconv1 = tf.get_variable(\"bconv1\", shape=[64]) \n",
    "# #     Wconv2 = tf.get_variable('Wconv2', shape=[2, 2, 64, 64])\n",
    "# #     bconv2 = tf.get_variable(\"bconv2\", shape=[64])\n",
    "#     a1 = tf.nn.conv2d(X, Wconv1, strides=[1,1,1,1], padding='VALID') + bconv1\n",
    "    \n",
    "# #    a1_bn = tf.layers.batch_normalization(a1, axis=-1, training=is_training) # batch normalize on channel axis\n",
    "#     # spatial batch normalization\n",
    "#     a1_mean, a1_var = tf.nn.moments(a1, axes=[0,1,2])\n",
    "#     scale = tf.Variable(tf.ones([64])) # 64 is spatial bn int_size\n",
    "#     shift = tf.Variable(tf.zeros([64]))\n",
    "#     epsilon = 1e-3\n",
    "#     a1_bn = tf.nn.batch_normalization(a1, a1_mean, a1_var, shift, scale, epsilon)\n",
    "    \n",
    "#     a1_bn = tf.nn.relu(a1_bn)\n",
    "#     pool1 = tf.nn.max_pool(a1_bn, ksize=[1,2,2,1], strides=[1,2,2,1], padding='VALID') \n",
    "#     pool_flat = tf.reshape(pool1, [-1, 14400])\n",
    "    \n",
    "    pool_flat, channel_out = architect_c_r_c_r_p(X, is_training, use_bn=True, N=3)\n",
    "    W1 = tf.get_variable(\"W1\", shape=[channel_out, 1024])\n",
    "    tf.add_to_collection('losses', tf.contrib.layers.l2_regularizer(0.001, W1))\n",
    "    b1 = tf.get_variable(\"b1\", shape=[1024])\n",
    "    W2 = tf.get_variable('W2', shape=[1024, 10])\n",
    "    tf.add_to_collection('losses', tf.contrib.layers.l2_regularizer(0.001, W2))\n",
    "    b2 = tf.get_variable('b2', shape=[10])\n",
    "    fc1 = tf.matmul(pool_flat, W1) + b1\n",
    "    # add dropout after fc layer, can improve 2%\n",
    "    fc1 = tf.layers.dropout(inputs=fc1, rate=0.5, training=is_training)\n",
    "    # add bn layer after conv layer and affine layer can imporve val_acc to 0.573\n",
    "    fc1_bn = tf.layers.batch_normalization(fc1, axis=-1, training=is_training)\n",
    "    # Use strided conv to downsample(has no improvement)\n",
    "#     conv2 = tf.nn.conv2d(a1_bn, Wconv2, strides=[1,2,2,1], padding='VALID') + bconv2\n",
    "#     conv2_flat = tf.reshape(conv2, [-1, 14400])\n",
    "#     fc1 = tf.matmul(conv2_flat, W1) + b1\n",
    "    a2 = tf.nn.relu(fc1_bn)\n",
    "    y_out = tf.matmul(a2, W2) +b2\n",
    "    return y_out\n",
    "\n",
    "tf.reset_default_graph()\n",
    "\n",
    "X = tf.placeholder(tf.float32, [None, 32, 32, 3])\n",
    "y = tf.placeholder(tf.int64, [None])\n",
    "is_training = tf.placeholder(tf.bool)\n",
    "\n",
    "y_out = my_model(X,y,is_training)\n",
    "#y_out = model_with_tf_scope(X,y,is_training)\n",
    "mean_loss = None\n",
    "optimizer = None\n",
    "\n",
    "pass\n",
    "# define our loss\n",
    "data_loss = tf.losses.softmax_cross_entropy(tf.one_hot(y,10),logits=y_out)\n",
    "total_loss = data_loss\n",
    "# # Add L2 reg\n",
    "# L2_reg_fn = tf.contrib.layers.l2_regularizer(0.001)\n",
    "# L2_reg_loss = tf.contrib.layers.apply_regularization(L2_reg_fn)\n",
    "# total_loss = data_loss + L2_reg_loss\n",
    "\n",
    "mean_loss = tf.reduce_mean(total_loss)\n",
    "\n",
    "# set learning rate decay, can add val_acc by 6%\n",
    "global_step = tf.Variable(0, trainable=False)\n",
    "boundaries = [1000, 1100] # iteration num\n",
    "values = [1e-3, 3e-4, 1e-4]\n",
    "learning_rate = tf.train.piecewise_constant(global_step, boundaries, values)\n",
    "\n",
    "# define our optimizer\n",
    "optimizer = tf.train.RMSPropOptimizer(learning_rate)\n",
    "\n",
    "# batch normalization in tensorflow requires this extra dependency\n",
    "extra_update_ops = tf.get_collection(tf.GraphKeys.UPDATE_OPS)\n",
    "with tf.control_dependencies(extra_update_ops):\n",
    "    train_step = optimizer.minimize(mean_loss, global_step=global_step)"
   ]
  },
  {
   "cell_type": "code",
   "execution_count": 130,
   "metadata": {},
   "outputs": [
    {
     "name": "stdout",
     "output_type": "stream",
     "text": [
      "Training\n",
      "Iteration 0: with minibatch training loss = 2.87 and accuracy of 0.062\n",
      "Epoch 1, Overall loss = 2.07 and accuracy of 0.278\n",
      "Epoch 2, Overall loss = 1.5 and accuracy of 0.473\n",
      "Epoch 3, Overall loss = 1.1 and accuracy of 0.615\n",
      "Iteration 500: with minibatch training loss = 0.995 and accuracy of 0.7\n",
      "Epoch 4, Overall loss = 0.827 and accuracy of 0.712\n",
      "Epoch 5, Overall loss = 0.638 and accuracy of 0.778\n",
      "Epoch 6, Overall loss = 0.455 and accuracy of 0.843\n",
      "Epoch 7, Overall loss = 0.324 and accuracy of 0.89\n",
      "Iteration 1000: with minibatch training loss = 0.175 and accuracy of 0.92\n",
      "Epoch 8, Overall loss = 0.15 and accuracy of 0.951\n",
      "Epoch 9, Overall loss = 0.0545 and accuracy of 0.989\n",
      "Epoch 10, Overall loss = 0.0307 and accuracy of 0.996\n",
      "Validation\n",
      "Epoch 1, Overall loss = 0.83 and accuracy of 0.741\n"
     ]
    },
    {
     "data": {
      "text/plain": [
       "(0.8302585048675537, 0.741)"
      ]
     },
     "execution_count": 130,
     "metadata": {},
     "output_type": "execute_result"
    }
   ],
   "source": [
    "# Feel free to play with this cell\n",
    "# This default code creates a session\n",
    "# and trains your model for 10 epochs\n",
    "# then prints the validation set accuracy\n",
    "sess = tf.Session()\n",
    "\n",
    "sess.run(tf.global_variables_initializer())\n",
    "print('Training')\n",
    "run_model(sess,y_out,mean_loss,X_train,y_train,10,64,500,train_step,False)\n",
    "print('Validation')\n",
    "run_model(sess,y_out,mean_loss,X_val,y_val,1,64)"
   ]
  },
  {
   "cell_type": "code",
   "execution_count": 131,
   "metadata": {},
   "outputs": [
    {
     "name": "stdout",
     "output_type": "stream",
     "text": [
      "Training\n",
      "Epoch 1, Overall loss = 0.0468 and accuracy of 0.998\n",
      "Validation\n",
      "Epoch 1, Overall loss = 0.83 and accuracy of 0.741\n"
     ]
    },
    {
     "data": {
      "text/plain": [
       "(0.8302585248947143, 0.741)"
      ]
     },
     "execution_count": 131,
     "metadata": {},
     "output_type": "execute_result"
    }
   ],
   "source": [
    "# Test your model here, and make sure \n",
    "# the output of this cell is the accuracy\n",
    "# of your best model on the training and val sets\n",
    "# We're looking for >= 70% accuracy on Validation\n",
    "print('Training')\n",
    "run_model(sess,y_out,mean_loss,X_train,y_train,1,64)\n",
    "print('Validation')\n",
    "run_model(sess,y_out,mean_loss,X_val,y_val,1,64)"
   ]
  },
  {
   "cell_type": "markdown",
   "metadata": {},
   "source": [
    "### Describe what you did here\n",
    "In this cell you should also write an explanation of what you did, any additional features that you implemented, and any visualizations or graphs that you make in the process of training and evaluating your network"
   ]
  },
  {
   "cell_type": "markdown",
   "metadata": {},
   "source": [
    "- **Network architectrue**: try out 3 different types of network architecture as described above and find \"[conv-relu-conv-relu-pool]*M+  [affine]*N+softmax or SVM classifier\" can achieve best performance\n",
    "- **Filter size**: reduce filter size of first convolution layer from 7 to 3 can increase final val_acc\n",
    "- **Number of filters**: add number of filters from 32 to 64 or larger in deeper conv layer can achieve better performance\n",
    "- **Batch normalization**: add bn layer after convolution layers or affine layers can benefit model a lot, and I find vanilla batch normalization to convolution layers can also works well\n",
    "- **Learning Rate Decay**: I use step decay strategy with piecewise_constant function on RMSPropOptimizer, which improve ~6% of fianl val_acc\n",
    "- **Regularization**: I use dropout with p=0.5, it also works\n",
    "- **others**: I also tried out strided convolution and global average pooling, but they didn't work."
   ]
  },
  {
   "cell_type": "markdown",
   "metadata": {},
   "source": [
    "### Test Set - Do this only once\n",
    "Now that we've gotten a result that we're happy with, we test our final model on the test set. This would be the score we would achieve on a competition. Think about how this compares to your validation set accuracy."
   ]
  },
  {
   "cell_type": "code",
   "execution_count": 132,
   "metadata": {},
   "outputs": [
    {
     "name": "stdout",
     "output_type": "stream",
     "text": [
      "Test\n",
      "Epoch 1, Overall loss = 0.801 and accuracy of 0.746\n"
     ]
    },
    {
     "data": {
      "text/plain": [
       "(0.8006419959068298, 0.746)"
      ]
     },
     "execution_count": 132,
     "metadata": {},
     "output_type": "execute_result"
    }
   ],
   "source": [
    "print('Test')\n",
    "run_model(sess,y_out,mean_loss,X_test,y_test,1,64)"
   ]
  },
  {
   "cell_type": "markdown",
   "metadata": {},
   "source": [
    "## Going further with TensorFlow\n",
    "\n",
    "The next assignment will make heavy use of TensorFlow. You might also find it useful for your projects. \n"
   ]
  },
  {
   "cell_type": "markdown",
   "metadata": {},
   "source": [
    "# Extra Credit Description\n",
    "If you implement any additional features for extra credit, clearly describe them here with pointers to any code in this or other files if applicable."
   ]
  }
 ],
 "metadata": {
  "kernelspec": {
   "display_name": "Python 3",
   "language": "python",
   "name": "python3"
  },
  "language_info": {
   "codemirror_mode": {
    "name": "ipython",
    "version": 3
   },
   "file_extension": ".py",
   "mimetype": "text/x-python",
   "name": "python",
   "nbconvert_exporter": "python",
   "pygments_lexer": "ipython3",
   "version": "3.5.2"
  }
 },
 "nbformat": 4,
 "nbformat_minor": 1
}
