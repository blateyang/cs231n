{
 "cells": [
  {
   "cell_type": "markdown",
   "metadata": {},
   "source": [
    "# Softmax exercise\n",
    "\n",
    "*Complete and hand in this completed worksheet (including its outputs and any supporting code outside of the worksheet) with your assignment submission. For more details see the [assignments page](http://vision.stanford.edu/teaching/cs231n/assignments.html) on the course website.*\n",
    "\n",
    "This exercise is analogous to the SVM exercise. You will:\n",
    "\n",
    "- implement a fully-vectorized **loss function** for the Softmax classifier\n",
    "- implement the fully-vectorized expression for its **analytic gradient**\n",
    "- **check your implementation** with numerical gradient\n",
    "- use a validation set to **tune the learning rate and regularization** strength\n",
    "- **optimize** the loss function with **SGD**\n",
    "- **visualize** the final learned weights\n"
   ]
  },
  {
   "cell_type": "code",
   "execution_count": 13,
   "metadata": {},
   "outputs": [],
   "source": [
    "import random\n",
    "import numpy as np\n",
    "from cs231n.data_utils import load_CIFAR10\n",
    "import matplotlib.pyplot as plt\n",
    "\n",
    "from __future__ import print_function\n",
    "\n",
    "%matplotlib inline\n",
    "plt.rcParams['figure.figsize'] = (10.0, 8.0) # set default size of plots\n",
    "plt.rcParams['image.interpolation'] = 'nearest'\n",
    "plt.rcParams['image.cmap'] = 'gray'\n",
    "\n",
    "# for auto-reloading extenrnal modules\n",
    "# see http://stackoverflow.com/questions/1907993/autoreload-of-modules-in-ipython\n",
    "%reload_ext autoreload\n",
    "%autoreload 2"
   ]
  },
  {
   "cell_type": "code",
   "execution_count": 2,
   "metadata": {},
   "outputs": [
    {
     "name": "stdout",
     "output_type": "stream",
     "text": [
      "Train data shape:  (9000, 3073)\n",
      "Train labels shape:  (9000,)\n",
      "Validation data shape:  (1000, 3073)\n",
      "Validation labels shape:  (1000,)\n",
      "Test data shape:  (1000, 3073)\n",
      "Test labels shape:  (1000,)\n",
      "dev data shape:  (500, 3073)\n",
      "dev labels shape:  (500,)\n"
     ]
    }
   ],
   "source": [
    "def get_CIFAR10_data(num_training=9000, num_validation=1000, num_test=1000, num_dev=500):\n",
    "    \"\"\"\n",
    "    Load the CIFAR-10 dataset from disk and perform preprocessing to prepare\n",
    "    it for the linear classifier. These are the same steps as we used for the\n",
    "    SVM, but condensed to a single function.  \n",
    "    \"\"\"\n",
    "    # Load the raw CIFAR-10 data\n",
    "    cifar10_dir = 'cs231n/datasets/cifar-10-batches-py'\n",
    "    X_train, y_train, X_test, y_test = load_CIFAR10(cifar10_dir)\n",
    "    \n",
    "    # subsample the data\n",
    "    mask = list(range(num_training, num_training + num_validation))\n",
    "    X_val = X_train[mask]\n",
    "    y_val = y_train[mask]\n",
    "    mask = list(range(num_training))\n",
    "    X_train = X_train[mask]\n",
    "    y_train = y_train[mask]\n",
    "    mask = list(range(num_test))\n",
    "    X_test = X_test[mask]\n",
    "    y_test = y_test[mask]\n",
    "    mask = np.random.choice(num_training, num_dev, replace=False)\n",
    "    X_dev = X_train[mask]\n",
    "    y_dev = y_train[mask]\n",
    "    \n",
    "    # Preprocessing: reshape the image data into rows\n",
    "    X_train = np.reshape(X_train, (X_train.shape[0], -1))\n",
    "    X_val = np.reshape(X_val, (X_val.shape[0], -1))\n",
    "    X_test = np.reshape(X_test, (X_test.shape[0], -1))\n",
    "    X_dev = np.reshape(X_dev, (X_dev.shape[0], -1))\n",
    "    \n",
    "    # Normalize the data: subtract the mean image\n",
    "    mean_image = np.mean(X_train, axis = 0)\n",
    "    X_train -= mean_image\n",
    "    X_val -= mean_image\n",
    "    X_test -= mean_image\n",
    "    X_dev -= mean_image\n",
    "    \n",
    "    # add bias dimension and transform into columns\n",
    "    X_train = np.hstack([X_train, np.ones((X_train.shape[0], 1))])\n",
    "    X_val = np.hstack([X_val, np.ones((X_val.shape[0], 1))])\n",
    "    X_test = np.hstack([X_test, np.ones((X_test.shape[0], 1))])\n",
    "    X_dev = np.hstack([X_dev, np.ones((X_dev.shape[0], 1))])\n",
    "    \n",
    "    return X_train, y_train, X_val, y_val, X_test, y_test, X_dev, y_dev\n",
    "\n",
    "\n",
    "# Invoke the above function to get our data.\n",
    "X_train, y_train, X_val, y_val, X_test, y_test, X_dev, y_dev = get_CIFAR10_data()\n",
    "print('Train data shape: ', X_train.shape)\n",
    "print('Train labels shape: ', y_train.shape)\n",
    "print('Validation data shape: ', X_val.shape)\n",
    "print('Validation labels shape: ', y_val.shape)\n",
    "print('Test data shape: ', X_test.shape)\n",
    "print('Test labels shape: ', y_test.shape)\n",
    "print('dev data shape: ', X_dev.shape)\n",
    "print('dev labels shape: ', y_dev.shape)"
   ]
  },
  {
   "cell_type": "markdown",
   "metadata": {},
   "source": [
    "## Softmax Classifier\n",
    "\n",
    "Your code for this section will all be written inside **cs231n/classifiers/softmax.py**. \n"
   ]
  },
  {
   "cell_type": "code",
   "execution_count": 35,
   "metadata": {},
   "outputs": [
    {
     "name": "stdout",
     "output_type": "stream",
     "text": [
      "loss: 2.350735\n",
      "sanity check: 2.302585\n"
     ]
    }
   ],
   "source": [
    "# First implement the naive softmax loss function with nested loops.\n",
    "# Open the file cs231n/classifiers/softmax.py and implement the\n",
    "# softmax_loss_naive function.\n",
    "\n",
    "from cs231n.classifiers.softmax import softmax_loss_naive\n",
    "import time\n",
    "\n",
    "# Generate a random softmax weight matrix and use it to compute the loss.\n",
    "W = np.random.randn(3073, 10) * 0.0001\n",
    "loss, grad = softmax_loss_naive(W, X_dev, y_dev, 0.0)\n",
    "\n",
    "# As a rough sanity check, our loss should be something close to -log(0.1).\n",
    "print('loss: %f' % loss)\n",
    "print('sanity check: %f' % (-np.log(0.1)))"
   ]
  },
  {
   "cell_type": "markdown",
   "metadata": {},
   "source": [
    "## Inline Question 1:\n",
    "Why do we expect our loss to be close to -log(0.1)? Explain briefly.**\n",
    "\n",
    "**Your answer:** 因为权重矩阵W被初始化为小的随机数，算出来的fj均接近0，经过softmax函数变换后的各类概率接近相等(1/C)\n"
   ]
  },
  {
   "cell_type": "code",
   "execution_count": 36,
   "metadata": {},
   "outputs": [
    {
     "name": "stdout",
     "output_type": "stream",
     "text": [
      "numerical: -2.076342 analytic: -2.076342, relative error: 9.527373e-09\n",
      "numerical: 0.963488 analytic: 0.963488, relative error: 9.436944e-09\n",
      "numerical: -0.746028 analytic: -0.746028, relative error: 1.119297e-08\n",
      "numerical: -1.248645 analytic: -1.248645, relative error: 3.103298e-08\n",
      "numerical: -4.477616 analytic: -4.477616, relative error: 1.329634e-08\n",
      "numerical: 0.146642 analytic: 0.146641, relative error: 1.501374e-07\n",
      "numerical: 1.290100 analytic: 1.290100, relative error: 7.922944e-09\n",
      "numerical: -0.970641 analytic: -0.970641, relative error: 3.610072e-08\n",
      "numerical: 0.600543 analytic: 0.600543, relative error: 1.968220e-08\n",
      "numerical: 3.349902 analytic: 3.349902, relative error: 2.287644e-08\n",
      "numerical: -0.937747 analytic: -0.937747, relative error: 1.444211e-09\n",
      "numerical: -1.269624 analytic: -1.269624, relative error: 4.288802e-09\n",
      "numerical: 2.573839 analytic: 2.573839, relative error: 2.504610e-08\n",
      "numerical: -1.491607 analytic: -1.491607, relative error: 8.370178e-09\n",
      "numerical: -0.769202 analytic: -0.769203, relative error: 1.069121e-08\n",
      "numerical: -0.781742 analytic: -0.781742, relative error: 5.993777e-08\n",
      "numerical: 0.582548 analytic: 0.582548, relative error: 1.017752e-07\n",
      "numerical: 0.777262 analytic: 0.777262, relative error: 2.673509e-08\n",
      "numerical: 2.116112 analytic: 2.116112, relative error: 9.464692e-09\n",
      "numerical: -2.238214 analytic: -2.238214, relative error: 7.968182e-09\n"
     ]
    }
   ],
   "source": [
    "# Complete the implementation of softmax_loss_naive and implement a (naive)\n",
    "# version of the gradient that uses nested loops.\n",
    "loss, grad = softmax_loss_naive(W, X_dev, y_dev, 0.0)\n",
    "\n",
    "# As we did for the SVM, use numeric gradient checking as a debugging tool.\n",
    "# The numeric gradient should be close to the analytic gradient.\n",
    "from cs231n.gradient_check import grad_check_sparse\n",
    "f = lambda w: softmax_loss_naive(w, X_dev, y_dev, 0.0)[0]\n",
    "grad_numerical = grad_check_sparse(f, W, grad, 10)\n",
    "\n",
    "# similar to SVM case, do another gradient check with regularization\n",
    "loss, grad = softmax_loss_naive(W, X_dev, y_dev, 5e1)\n",
    "f = lambda w: softmax_loss_naive(w, X_dev, y_dev, 5e1)[0]\n",
    "grad_numerical = grad_check_sparse(f, W, grad, 10)"
   ]
  },
  {
   "cell_type": "code",
   "execution_count": 37,
   "metadata": {},
   "outputs": [
    {
     "name": "stdout",
     "output_type": "stream",
     "text": [
      "naive loss: 2.350735e+00 computed in 0.319493s\n",
      "vectorized loss: 2.350735e+00 computed in 0.028094s\n",
      "Loss difference: 0.000000\n",
      "Gradient difference: 0.000000\n"
     ]
    }
   ],
   "source": [
    "# Now that we have a naive implementation of the softmax loss function and its gradient,\n",
    "# implement a vectorized version in softmax_loss_vectorized.\n",
    "# The two versions should compute the same results, but the vectorized version should be\n",
    "# much faster.\n",
    "tic = time.time()\n",
    "loss_naive, grad_naive = softmax_loss_naive(W, X_dev, y_dev, 0.000005)\n",
    "toc = time.time()\n",
    "print('naive loss: %e computed in %fs' % (loss_naive, toc - tic))\n",
    "\n",
    "from cs231n.classifiers.softmax import softmax_loss_vectorized\n",
    "tic = time.time()\n",
    "loss_vectorized, grad_vectorized = softmax_loss_vectorized(W, X_dev, y_dev, 0.000005)\n",
    "toc = time.time()\n",
    "print('vectorized loss: %e computed in %fs' % (loss_vectorized, toc - tic))\n",
    "\n",
    "# As we did for the SVM, we use the Frobenius norm to compare the two versions\n",
    "# of the gradient.\n",
    "grad_difference = np.linalg.norm(grad_naive - grad_vectorized, ord='fro')\n",
    "print('Loss difference: %f' % np.abs(loss_naive - loss_vectorized))\n",
    "print('Gradient difference: %f' % grad_difference)"
   ]
  },
  {
   "cell_type": "code",
   "execution_count": 32,
   "metadata": {},
   "outputs": [
    {
     "name": "stdout",
     "output_type": "stream",
     "text": [
      "iteration 0 / 1500: loss 388.091643\n",
      "iteration 100 / 1500: loss 234.865779\n",
      "iteration 200 / 1500: loss 142.660890\n",
      "iteration 300 / 1500: loss 86.966926\n",
      "iteration 400 / 1500: loss 53.415934\n",
      "iteration 500 / 1500: loss 33.151923\n",
      "iteration 600 / 1500: loss 20.813366\n",
      "iteration 700 / 1500: loss 13.429472\n",
      "iteration 800 / 1500: loss 8.937921\n",
      "iteration 900 / 1500: loss 6.210363\n",
      "iteration 1000 / 1500: loss 4.481101\n",
      "iteration 1100 / 1500: loss 3.660255\n",
      "iteration 1200 / 1500: loss 2.996836\n",
      "iteration 1300 / 1500: loss 2.553197\n",
      "iteration 1400 / 1500: loss 2.333282\n",
      "iteration 0 / 1500: loss 767.699894\n",
      "iteration 100 / 1500: loss 281.466315\n",
      "iteration 200 / 1500: loss 104.308233\n",
      "iteration 300 / 1500: loss 39.564937\n",
      "iteration 400 / 1500: loss 15.754698\n",
      "iteration 500 / 1500: loss 7.067476\n",
      "iteration 600 / 1500: loss 3.924458\n",
      "iteration 700 / 1500: loss 2.726133\n",
      "iteration 800 / 1500: loss 2.338849\n",
      "iteration 900 / 1500: loss 2.139282\n",
      "iteration 1000 / 1500: loss 2.127524\n",
      "iteration 1100 / 1500: loss 2.104244\n",
      "iteration 1200 / 1500: loss 2.053917\n",
      "iteration 1300 / 1500: loss 2.085347\n",
      "iteration 1400 / 1500: loss 2.135221\n",
      "iteration 0 / 1500: loss 397.342030\n",
      "iteration 100 / 1500: loss 33.363979\n",
      "iteration 200 / 1500: loss 4.520858\n",
      "iteration 300 / 1500: loss 2.234441\n",
      "iteration 400 / 1500: loss 1.998406\n",
      "iteration 500 / 1500: loss 1.978373\n",
      "iteration 600 / 1500: loss 2.064445\n",
      "iteration 700 / 1500: loss 2.022446\n",
      "iteration 800 / 1500: loss 2.022301\n",
      "iteration 900 / 1500: loss 2.004661\n",
      "iteration 1000 / 1500: loss 2.066707\n",
      "iteration 1100 / 1500: loss 2.110925\n",
      "iteration 1200 / 1500: loss 2.048648\n",
      "iteration 1300 / 1500: loss 1.950969\n",
      "iteration 1400 / 1500: loss 2.048513\n",
      "iteration 0 / 1500: loss 772.407614\n",
      "iteration 100 / 1500: loss 6.853054\n",
      "iteration 200 / 1500: loss 2.093508\n",
      "iteration 300 / 1500: loss 2.056531\n",
      "iteration 400 / 1500: loss 2.038173\n",
      "iteration 500 / 1500: loss 2.065035\n",
      "iteration 600 / 1500: loss 2.051893\n",
      "iteration 700 / 1500: loss 2.112888\n",
      "iteration 800 / 1500: loss 2.039440\n",
      "iteration 900 / 1500: loss 2.063500\n",
      "iteration 1000 / 1500: loss 2.085330\n",
      "iteration 1100 / 1500: loss 2.061963\n",
      "iteration 1200 / 1500: loss 2.054044\n",
      "iteration 1300 / 1500: loss 2.097310\n",
      "iteration 1400 / 1500: loss 2.102242\n",
      "lr 1.000000e-07 reg 2.500000e+04 train accuracy: 0.363556 val accuracy: 0.340000\n",
      "lr 1.000000e-07 reg 5.000000e+04 train accuracy: 0.343333 val accuracy: 0.311000\n",
      "lr 5.000000e-07 reg 2.500000e+04 train accuracy: 0.359778 val accuracy: 0.338000\n",
      "lr 5.000000e-07 reg 5.000000e+04 train accuracy: 0.344889 val accuracy: 0.315000\n",
      "best validation accuracy achieved during cross-validation: 0.340000\n"
     ]
    }
   ],
   "source": [
    "# Use the validation set to tune hyperparameters (regularization strength and\n",
    "# learning rate). You should experiment with different ranges for the learning\n",
    "# rates and regularization strengths; if you are careful you should be able to\n",
    "# get a classification accuracy of over 0.35 on the validation set.\n",
    "from cs231n.classifiers import Softmax\n",
    "results = {}\n",
    "best_val = -1\n",
    "best_softmax = None\n",
    "learning_rates = [1e-7, 5e-7]\n",
    "regularization_strengths = [2.5e4, 5e4]\n",
    "\n",
    "################################################################################\n",
    "# TODO:                                                                        #\n",
    "# Use the validation set to set the learning rate and regularization strength. #\n",
    "# This should be identical to the validation that you did for the SVM; save    #\n",
    "# the best trained softmax classifer in best_softmax.                          #\n",
    "################################################################################\n",
    "pass\n",
    "for lr in learning_rates:\n",
    "    for reg in regularization_strengths:\n",
    "        sm = Softmax()\n",
    "        loss_list = sm.train(X_train, y_train, lr, reg, num_iters=1500, verbose=True)\n",
    "        y_train_pred = sm.predict(X_train)\n",
    "        y_val_pred = sm.predict(X_val)\n",
    "        results[(lr, reg)] = (np.mean(y_train_pred==y_train), np.mean(y_val_pred==y_val))\n",
    "#         print(results[(lr, reg)])\n",
    "        if results[(lr, reg)][1] > best_val:\n",
    "            best_val = results[(lr, reg)][1]\n",
    "            best_softmax = sm\n",
    "################################################################################\n",
    "#                              END OF YOUR CODE                                #\n",
    "################################################################################\n",
    "    \n",
    "# Print out results.\n",
    "for lr, reg in sorted(results):\n",
    "    train_accuracy, val_accuracy = results[(lr, reg)]\n",
    "    print('lr %e reg %e train accuracy: %f val accuracy: %f' % (\n",
    "                lr, reg, train_accuracy, val_accuracy))\n",
    "    \n",
    "print('best validation accuracy achieved during cross-validation: %f' % best_val)"
   ]
  },
  {
   "cell_type": "code",
   "execution_count": 33,
   "metadata": {},
   "outputs": [
    {
     "name": "stdout",
     "output_type": "stream",
     "text": [
      "softmax on raw pixels final test set accuracy: 0.356000\n"
     ]
    }
   ],
   "source": [
    "# evaluate on test set\n",
    "# Evaluate the best softmax on test set\n",
    "y_test_pred = best_softmax.predict(X_test)\n",
    "test_accuracy = np.mean(y_test == y_test_pred)\n",
    "print('softmax on raw pixels final test set accuracy: %f' % (test_accuracy, ))"
   ]
  },
  {
   "cell_type": "code",
   "execution_count": 34,
   "metadata": {},
   "outputs": [
    {
     "data": {
      "image/png": "[encoded data removed]",
      "text/plain": [
       "<matplotlib.figure.Figure at 0x7ffa37d53890>"
      ]
     },
     "metadata": {},
     "output_type": "display_data"
    }
   ],
   "source": [
    "# Visualize the learned weights for each class\n",
    "w = best_softmax.W[:-1,:] # strip out the bias\n",
    "w = w.reshape(32, 32, 3, 10)\n",
    "\n",
    "w_min, w_max = np.min(w), np.max(w)\n",
    "\n",
    "classes = ['plane', 'car', 'bird', 'cat', 'deer', 'dog', 'frog', 'horse', 'ship', 'truck']\n",
    "for i in range(10):\n",
    "    plt.subplot(2, 5, i + 1)\n",
    "    \n",
    "    # Rescale the weights to be between 0 and 255\n",
    "    wimg = 255.0 * (w[:, :, :, i] - w_min) / (w_max - w_min)\n",
    "    plt.imshow(wimg.astype('uint8'))\n",
    "    plt.axis('off')\n",
    "    plt.title(classes[i])"
   ]
  }
 ],
 "metadata": {
  "kernelspec": {
   "display_name": "Python 2",
   "language": "python",
   "name": "python2"
  },
  "language_info": {
   "codemirror_mode": {
    "name": "ipython",
    "version": 2
   },
   "file_extension": ".py",
   "mimetype": "text/x-python",
   "name": "python",
   "nbconvert_exporter": "python",
   "pygments_lexer": "ipython2",
   "version": "2.7.12"
  }
 },
 "nbformat": 4,
 "nbformat_minor": 1
}
